{
 "cells": [
  {
   "cell_type": "markdown",
   "id": "97594874-1b53-4d67-96e3-85d7777c4343",
   "metadata": {},
   "source": [
    "# Decide the model type"
   ]
  },
  {
   "cell_type": "code",
   "execution_count": 72,
   "id": "70143bde-2053-4976-938f-b348a109fc8a",
   "metadata": {},
   "outputs": [],
   "source": [
    "import os\n",
    "import pandas as pd\n",
    "import numpy as np\n",
    "from scipy.optimize import brentq\n",
    "import matplotlib.pyplot as plt"
   ]
  },
  {
   "cell_type": "markdown",
   "id": "ccd329df-a5f5-4b4d-8553-ec55f3fe2914",
   "metadata": {},
   "source": [
    "# load data"
   ]
  },
  {
   "cell_type": "code",
   "execution_count": 74,
   "id": "e70edb00-1bb8-4204-b25f-bc0642d25d55",
   "metadata": {},
   "outputs": [
    {
     "name": "stdout",
     "output_type": "stream",
     "text": [
      "Working directory: C:\\Users\\OY\\Desktop\\2025Spring\\Math548\\final project\n",
      "Contains: ['48_k=0.2_modified.csv', 'data', 'Desktop', 'Final.docx', 'full_data.xlsx', 'high_frequency(1).xlsx', 'high_frequency.csv', 'jan_02.csv', 'list all the definition of variables and parameter.pdf', 'Madan et al. (2019).pdf', 'MLQF S25 Exam Guide.pdf', 'Proposition 2.py', 'time_series.csv', 'updata_full data.xlsx', 'update.csv', 'update_TS.csv', '~$Final.docx']\n"
     ]
    }
   ],
   "source": [
    "os.chdir(os.path.expanduser('~/Desktop/2025Spring/Math548/final project'))\n",
    "print(\"Working directory:\", os.getcwd())\n",
    "print(\"Contains:\", os.listdir())"
   ]
  },
  {
   "cell_type": "code",
   "execution_count": 75,
   "id": "cdefabf5-a664-465d-b957-4e65529396a9",
   "metadata": {},
   "outputs": [],
   "source": [
    "df = pd.read_csv('high_frequency.csv', parse_dates=['Time'])\n",
    "df.sort_values('Time', inplace=True)"
   ]
  },
  {
   "cell_type": "code",
   "execution_count": 76,
   "id": "9050bf35-f267-4bc0-933a-ddbba7274a2a",
   "metadata": {},
   "outputs": [],
   "source": [
    "#high frequency VIX data in Jan 02\n",
    "X = df['VIX'].values"
   ]
  },
  {
   "cell_type": "markdown",
   "id": "f43cd713-14db-4491-9963-81db27cc357e",
   "metadata": {},
   "source": [
    "# Activity index β calculation"
   ]
  },
  {
   "cell_type": "code",
   "execution_count": 106,
   "id": "7e8cf6c9-3bcf-4024-b78d-61c86129ed2e",
   "metadata": {},
   "outputs": [],
   "source": [
    "def compute_activity_index(X, L=0.5, Δ=1, verbose=True):\n",
    "    dX = np.diff(X)\n",
    "    dX1 = dX[::Δ]                   # 1-min increments\n",
    "    dX2 = X[2*Δ::2*Δ] - X[:-2*Δ:2*Δ] # 2Δ-min increments\n",
    "    trunc_ratio = np.mean(np.abs(dX1) > L)\n",
    "    \n",
    "    if verbose:\n",
    "        print(\"\\n===== Truncation Analysis (l=0.5) =====\")\n",
    "        print(f\"Absolute 1-min increment statistics:\")\n",
    "        print(f\"• Median: {np.median(np.abs(dX1)):.4f}\")\n",
    "        print(f\"• 95th percentile: {np.quantile(np.abs(dX1), 0.95):.4f}\")\n",
    "        print(f\"• Maximum: {np.max(np.abs(dX1)):.4f}\")\n",
    "        print(f\"\\nTruncated {trunc_ratio:.2%} increments (|ΔX| > {L})\")\n",
    "    \n",
    "    def V(p, dX):\n",
    "        if p < 2:\n",
    "            mask = np.abs(dX) <= L\n",
    "            return np.sum(np.abs(dX)**p * mask)\n",
    "        return np.sum(np.abs(dX)**p)\n",
    "    \n",
    "    def b_of_p(p):\n",
    "        V1 = V(p, dX1)\n",
    "        V2 = V(p, dX2)\n",
    "        return (np.log(2)*p) / (np.log(2) + np.log(V2) - np.log(V1))\n",
    "    \n",
    "    p_grid = np.linspace(0.05, 1.95, 191)\n",
    "    f_vals = [b_of_p(p) - p for p in p_grid]\n",
    "    \n",
    "    brackets = [(p_grid[i], p_grid[i+1]) \n",
    "               for i in range(len(p_grid)-1) \n",
    "               if f_vals[i]*f_vals[i+1] < 0]\n",
    "    \n",
    "    if brackets:\n",
    "        beta_hat = brentq(lambda p: b_of_p(p) - p, brackets[0][0], brackets[0][1])\n",
    "        method = \"Root-finding\"\n",
    "    else:\n",
    "        beta_hat = p_grid[np.argmin(np.abs(f_vals))]\n",
    "        method = \"Fallback (min |b(p)-p|)\"\n",
    "    \n",
    "    if verbose:\n",
    "        print(\"\\n===== Activity Index Result =====\")\n",
    "        print(f\"Estimated β: {beta_hat:.3f} | Method: {method}\")\n",
    "        print(\"\\nSensitivity to L (for β≈1.7-1.8 target):\")\n",
    "        for L_test in [0.2,0.3,0.4,0.5]:\n",
    "            ratio = np.mean(np.abs(dX1) > L_test)\n",
    "            print(f\"• L={L_test:.1f} → trunc={ratio:.1%}\")\n",
    "        print(\"\\nL represents the Truncation threshold (filters extreme jumps)\")\n",
    "        print(\"\\nΔ represents Base sampling interval\")\n",
    "    return beta_hat, method, trunc_ratio"
   ]
  },
  {
   "cell_type": "code",
   "execution_count": 108,
   "id": "2dc70985-dac5-4809-93c9-4745b2bb572b",
   "metadata": {},
   "outputs": [
    {
     "name": "stdout",
     "output_type": "stream",
     "text": [
      "\n",
      "===== Truncation Analysis (l=0.5) =====\n",
      "Absolute 1-min increment statistics:\n",
      "• Median: 0.0200\n",
      "• 95th percentile: 0.1400\n",
      "• Maximum: 0.3200\n",
      "\n",
      "Truncated 0.00% increments (|ΔX| > 0.5)\n",
      "\n",
      "===== Activity Index Result =====\n",
      "Estimated β: 1.715 | Method: Root-finding\n",
      "\n",
      "Sensitivity to L (for β≈1.7-1.8 target):\n",
      "• L=0.2 → trunc=1.7%\n",
      "• L=0.3 → trunc=0.3%\n",
      "• L=0.4 → trunc=0.0%\n",
      "• L=0.5 → trunc=0.0%\n",
      "\n",
      "L represents the Truncation threshold (filters extreme jumps)\n",
      "\n",
      "Δ represents Base sampling interval\n"
     ]
    }
   ],
   "source": [
    "beta_hat, method, trunc_ratio = compute_activity_index(X, L=0.5)"
   ]
  },
  {
   "cell_type": "markdown",
   "id": "23a12df4-1f2c-4b86-8ed2-150965a01575",
   "metadata": {},
   "source": [
    "# Data for calibration model"
   ]
  },
  {
   "cell_type": "code",
   "execution_count": 81,
   "id": "3a7b49a4-a686-44f5-92be-55e0e7705552",
   "metadata": {},
   "outputs": [
    {
     "name": "stdout",
     "output_type": "stream",
     "text": [
      "<class 'pandas.core.frame.DataFrame'>\n",
      "RangeIndex: 96 entries, 0 to 95\n",
      "Data columns (total 13 columns):\n",
      " #   Column          Non-Null Count  Dtype  \n",
      "---  ------          --------------  -----  \n",
      " 0   Strike          96 non-null     float64\n",
      " 1   IVM_call        96 non-null     float64\n",
      " 2   Volm_call       96 non-null     int64  \n",
      " 3   TTM_year        96 non-null     float64\n",
      " 4   mid_price_call  96 non-null     float64\n",
      " 5   IVM_Put         96 non-null     float64\n",
      " 6   Volm_Put        96 non-null     int64  \n",
      " 7   mid_price_put   96 non-null     float64\n",
      " 8   spot_price      96 non-null     float64\n",
      " 9   Bid             96 non-null     float64\n",
      " 10  Ask             96 non-null     float64\n",
      " 11  Bid_Put         96 non-null     float64\n",
      " 12  Ask_Put         96 non-null     float64\n",
      "dtypes: float64(11), int64(2)\n",
      "memory usage: 9.9 KB\n"
     ]
    }
   ],
   "source": [
    "cols = ['Strike', 'IVM_call', 'Volm_call', 'TTM_year',\n",
    "        'mid_price_call', 'IVM_Put', 'Volm_Put', 'mid_price_put','spot_price','Bid','Ask',\n",
    "        'Bid_Put','Ask_Put']\n",
    "df_Jan02 = pd.read_csv('jan_02.csv')[cols]\n",
    "# display a quick summary\n",
    "df_Jan02.info()\n"
   ]
  },
  {
   "cell_type": "code",
   "execution_count": 82,
   "id": "4209acc4-483c-49dc-8c03-66cb62c112d3",
   "metadata": {},
   "outputs": [
    {
     "name": "stdout",
     "output_type": "stream",
     "text": [
      "\n",
      "Ranges:\n",
      "     TTM_year  Strike  spot_price  mid_price_put\n",
      "min  0.054795    0.09      0.1793         0.0001\n",
      "max  0.706849    0.28      0.1793         0.1090\n"
     ]
    }
   ],
   "source": [
    "ranges_cali = df_Jan02.agg({\n",
    "    'TTM_year': ['min','max'],\n",
    "    'Strike'  : ['min','max'],\n",
    "    'spot_price' :['min','max'],\n",
    "   'mid_price_put' :['min','max']\n",
    "})\n",
    "print(\"\\nRanges:\")\n",
    "print(ranges_cali)"
   ]
  },
  {
   "cell_type": "code",
   "execution_count": 83,
   "id": "58b2e72d-be28-4c8f-9559-e490df2c8263",
   "metadata": {},
   "outputs": [
    {
     "data": {
      "image/png": "[encoded data removed]",
      "text/plain": [
       "<Figure size 1000x600 with 1 Axes>"
      ]
     },
     "metadata": {},
     "output_type": "display_data"
    }
   ],
   "source": [
    "#plot of IVM_Put change over different strike\n",
    "ttm_groups = {\n",
    "    0.706849315: {'color': 'blue', 'label': '258/365 year', 'marker': 'o'},\n",
    "    0.273972603: {'color': 'red', 'label': '100/365 year', 'marker': 's'},\n",
    "    0.131506849: {'color': 'green', 'label': '48/365 year', 'marker': '^'},\n",
    "    0.054794521: {'color': 'purple', 'label': '20/365 year', 'marker': 'd'}\n",
    "}\n",
    "\n",
    "plt.figure(figsize=(10, 6))\n",
    "\n",
    "for ttm, style in ttm_groups.items():\n",
    "    mask = df_Jan02['TTM_year'] == ttm\n",
    "    plt.scatter(\n",
    "        df_Jan02.loc[mask, 'Strike'],\n",
    "        df_Jan02.loc[mask, 'IVM_Put'],\n",
    "        c=style['color'],\n",
    "        marker=style['marker'],\n",
    "        label=style['label'],\n",
    "        alpha=0.7\n",
    "    )\n",
    "\n",
    "\n",
    "plt.xlabel('Strike Price', fontsize=12)\n",
    "plt.ylabel('Implied Volatility (Put)', fontsize=12)\n",
    "plt.title('IVM_Put vs Strike by Time to Maturity (TTM)', fontsize=14)\n",
    "plt.legend(loc='upper right', title='TTM_year')\n",
    "plt.grid(True, linestyle='--', alpha=0.5)\n",
    "\n",
    "plt.tight_layout()\n",
    "plt.show()"
   ]
  },
  {
   "cell_type": "markdown",
   "id": "84cfc077-fd79-45fa-8383-88227954c2c1",
   "metadata": {},
   "source": [
    "# arbitrage test for calibration data"
   ]
  },
  {
   "cell_type": "code",
   "execution_count": 85,
   "id": "a37c92b7-2c4e-4a92-8f0f-dfee5efa16aa",
   "metadata": {},
   "outputs": [
    {
     "name": "stdout",
     "output_type": "stream",
     "text": [
      ">>> 46 strikes in the “reasonable” range (out of 96)\n"
     ]
    }
   ],
   "source": [
    "df = pd.read_csv('jan_02.csv').reset_index(drop=True)\n",
    "tol = 1e-6\n",
    "\n",
    "df = df.sort_values('Strike').reset_index(drop=True)\n",
    "\n",
    "df['K_rel'] = df['Strike'] / df['spot_price']\n",
    "is_short = df['TTM_year'] <= 0.054794521\n",
    "mask_short = is_short & df['K_rel'].between(0.85, 1.25)\n",
    "mask_long  = ~is_short & df['K_rel'].between(1.00, 5.00)\n",
    "\n",
    "df_valid = df.loc[mask_short | mask_long].reset_index(drop=True)\n",
    "print(f\">>> {len(df_valid)} strikes in the “reasonable” range (out of {len(df)})\")\n"
   ]
  },
  {
   "cell_type": "markdown",
   "id": "c27b74cd-38c8-4d42-89f0-1218e2804efa",
   "metadata": {},
   "source": [
    "# put–call parity test"
   ]
  },
  {
   "cell_type": "code",
   "execution_count": 87,
   "id": "5bf2a0c1-7d58-495f-8291-0039feac9bc5",
   "metadata": {},
   "outputs": [
    {
     "name": "stdout",
     "output_type": "stream",
     "text": [
      ">>> Lower-bound violations (bidC–askP ≤ S−K):    72\n",
      ">>> Upper-bound violations (S−K ≤ askC–bidP):    24\n",
      ">>> Total parity violations:                     96\n"
     ]
    },
    {
     "data": {
      "text/html": [
       "<div>\n",
       "<style scoped>\n",
       "    .dataframe tbody tr th:only-of-type {\n",
       "        vertical-align: middle;\n",
       "    }\n",
       "\n",
       "    .dataframe tbody tr th {\n",
       "        vertical-align: top;\n",
       "    }\n",
       "\n",
       "    .dataframe thead th {\n",
       "        text-align: right;\n",
       "    }\n",
       "</style>\n",
       "<table border=\"1\" class=\"dataframe\">\n",
       "  <thead>\n",
       "    <tr style=\"text-align: right;\">\n",
       "      <th></th>\n",
       "      <th>Strike</th>\n",
       "      <th>TTM_year</th>\n",
       "      <th>Bid</th>\n",
       "      <th>Ask</th>\n",
       "      <th>Bid_Put</th>\n",
       "      <th>Ask_Put</th>\n",
       "      <th>lower_bound</th>\n",
       "      <th>S_minus_K</th>\n",
       "      <th>upper_bound</th>\n",
       "    </tr>\n",
       "  </thead>\n",
       "  <tbody>\n",
       "    <tr>\n",
       "      <th>0</th>\n",
       "      <td>0.090</td>\n",
       "      <td>0.131507</td>\n",
       "      <td>0.0905</td>\n",
       "      <td>0.0930</td>\n",
       "      <td>0.0000</td>\n",
       "      <td>0.0002</td>\n",
       "      <td>0.0903</td>\n",
       "      <td>0.0893</td>\n",
       "      <td>0.0930</td>\n",
       "    </tr>\n",
       "    <tr>\n",
       "      <th>1</th>\n",
       "      <td>0.100</td>\n",
       "      <td>0.706849</td>\n",
       "      <td>0.0820</td>\n",
       "      <td>0.1010</td>\n",
       "      <td>0.0000</td>\n",
       "      <td>0.0017</td>\n",
       "      <td>0.0803</td>\n",
       "      <td>0.0793</td>\n",
       "      <td>0.1010</td>\n",
       "    </tr>\n",
       "    <tr>\n",
       "      <th>2</th>\n",
       "      <td>0.100</td>\n",
       "      <td>0.131507</td>\n",
       "      <td>0.0805</td>\n",
       "      <td>0.0835</td>\n",
       "      <td>0.0000</td>\n",
       "      <td>0.0002</td>\n",
       "      <td>0.0803</td>\n",
       "      <td>0.0793</td>\n",
       "      <td>0.0835</td>\n",
       "    </tr>\n",
       "    <tr>\n",
       "      <th>3</th>\n",
       "      <td>0.100</td>\n",
       "      <td>0.273973</td>\n",
       "      <td>0.0825</td>\n",
       "      <td>0.0850</td>\n",
       "      <td>0.0000</td>\n",
       "      <td>0.0002</td>\n",
       "      <td>0.0823</td>\n",
       "      <td>0.0793</td>\n",
       "      <td>0.0850</td>\n",
       "    </tr>\n",
       "    <tr>\n",
       "      <th>4</th>\n",
       "      <td>0.105</td>\n",
       "      <td>0.706849</td>\n",
       "      <td>0.0775</td>\n",
       "      <td>0.0970</td>\n",
       "      <td>0.0000</td>\n",
       "      <td>0.0020</td>\n",
       "      <td>0.0755</td>\n",
       "      <td>0.0743</td>\n",
       "      <td>0.0970</td>\n",
       "    </tr>\n",
       "    <tr>\n",
       "      <th>...</th>\n",
       "      <td>...</td>\n",
       "      <td>...</td>\n",
       "      <td>...</td>\n",
       "      <td>...</td>\n",
       "      <td>...</td>\n",
       "      <td>...</td>\n",
       "      <td>...</td>\n",
       "      <td>...</td>\n",
       "      <td>...</td>\n",
       "    </tr>\n",
       "    <tr>\n",
       "      <th>91</th>\n",
       "      <td>0.270</td>\n",
       "      <td>0.273973</td>\n",
       "      <td>0.0147</td>\n",
       "      <td>0.0152</td>\n",
       "      <td>0.0995</td>\n",
       "      <td>0.1005</td>\n",
       "      <td>-0.0858</td>\n",
       "      <td>-0.0907</td>\n",
       "      <td>-0.0843</td>\n",
       "    </tr>\n",
       "    <tr>\n",
       "      <th>92</th>\n",
       "      <td>0.270</td>\n",
       "      <td>0.706849</td>\n",
       "      <td>0.0194</td>\n",
       "      <td>0.0277</td>\n",
       "      <td>0.0910</td>\n",
       "      <td>0.1030</td>\n",
       "      <td>-0.0836</td>\n",
       "      <td>-0.0907</td>\n",
       "      <td>-0.0633</td>\n",
       "    </tr>\n",
       "    <tr>\n",
       "      <th>93</th>\n",
       "      <td>0.270</td>\n",
       "      <td>0.131507</td>\n",
       "      <td>0.0116</td>\n",
       "      <td>0.0120</td>\n",
       "      <td>0.0985</td>\n",
       "      <td>0.0995</td>\n",
       "      <td>-0.0879</td>\n",
       "      <td>-0.0907</td>\n",
       "      <td>-0.0865</td>\n",
       "    </tr>\n",
       "    <tr>\n",
       "      <th>94</th>\n",
       "      <td>0.280</td>\n",
       "      <td>0.706849</td>\n",
       "      <td>0.0184</td>\n",
       "      <td>0.0264</td>\n",
       "      <td>0.0995</td>\n",
       "      <td>0.1120</td>\n",
       "      <td>-0.0936</td>\n",
       "      <td>-0.1007</td>\n",
       "      <td>-0.0731</td>\n",
       "    </tr>\n",
       "    <tr>\n",
       "      <th>95</th>\n",
       "      <td>0.280</td>\n",
       "      <td>0.273973</td>\n",
       "      <td>0.0140</td>\n",
       "      <td>0.0145</td>\n",
       "      <td>0.1085</td>\n",
       "      <td>0.1095</td>\n",
       "      <td>-0.0955</td>\n",
       "      <td>-0.1007</td>\n",
       "      <td>-0.0940</td>\n",
       "    </tr>\n",
       "  </tbody>\n",
       "</table>\n",
       "<p>96 rows × 9 columns</p>\n",
       "</div>"
      ],
      "text/plain": [
       "    Strike  TTM_year     Bid     Ask  Bid_Put  Ask_Put  lower_bound  \\\n",
       "0    0.090  0.131507  0.0905  0.0930   0.0000   0.0002       0.0903   \n",
       "1    0.100  0.706849  0.0820  0.1010   0.0000   0.0017       0.0803   \n",
       "2    0.100  0.131507  0.0805  0.0835   0.0000   0.0002       0.0803   \n",
       "3    0.100  0.273973  0.0825  0.0850   0.0000   0.0002       0.0823   \n",
       "4    0.105  0.706849  0.0775  0.0970   0.0000   0.0020       0.0755   \n",
       "..     ...       ...     ...     ...      ...      ...          ...   \n",
       "91   0.270  0.273973  0.0147  0.0152   0.0995   0.1005      -0.0858   \n",
       "92   0.270  0.706849  0.0194  0.0277   0.0910   0.1030      -0.0836   \n",
       "93   0.270  0.131507  0.0116  0.0120   0.0985   0.0995      -0.0879   \n",
       "94   0.280  0.706849  0.0184  0.0264   0.0995   0.1120      -0.0936   \n",
       "95   0.280  0.273973  0.0140  0.0145   0.1085   0.1095      -0.0955   \n",
       "\n",
       "    S_minus_K  upper_bound  \n",
       "0      0.0893       0.0930  \n",
       "1      0.0793       0.1010  \n",
       "2      0.0793       0.0835  \n",
       "3      0.0793       0.0850  \n",
       "4      0.0743       0.0970  \n",
       "..        ...          ...  \n",
       "91    -0.0907      -0.0843  \n",
       "92    -0.0907      -0.0633  \n",
       "93    -0.0907      -0.0865  \n",
       "94    -0.1007      -0.0731  \n",
       "95    -0.1007      -0.0940  \n",
       "\n",
       "[96 rows x 9 columns]"
      ]
     },
     "metadata": {},
     "output_type": "display_data"
    }
   ],
   "source": [
    "# Two‐price put–call parity test\n",
    "for col in ['Bid','Ask','Bid_Put','Ask_Put']:\n",
    "    df[col] = df[col] / 100.0\n",
    "\n",
    "# compute S0−K and the two bounds\n",
    "df['S_minus_K']   = df['spot_price'] - df['Strike']\n",
    "df['lower_bound'] = df['Bid']  - df['Ask_Put']\n",
    "df['upper_bound'] = df['Ask']  - df['Bid_Put']\n",
    "\n",
    "#find violations\n",
    "low_idx  = df.index[df['lower_bound'] > df['S_minus_K']]\n",
    "high_idx = df.index[df['upper_bound'] < df['S_minus_K']]\n",
    "all_idx  = low_idx.union(high_idx)\n",
    "\n",
    "print(f\">>> Lower-bound violations (bidC–askP ≤ S−K):    {len(low_idx)}\")\n",
    "print(f\">>> Upper-bound violations (S−K ≤ askC–bidP):    {len(high_idx)}\")\n",
    "print(f\">>> Total parity violations:                     {len(all_idx)}\")\n",
    "\n",
    "# show the bad rows\n",
    "display(\n",
    "    df.loc[all_idx,\n",
    "           ['Strike','TTM_year',\n",
    "            'Bid','Ask','Bid_Put','Ask_Put',\n",
    "            'lower_bound','S_minus_K','upper_bound']]\n",
    ")"
   ]
  },
  {
   "cell_type": "markdown",
   "id": "dc852f06-9219-4fa8-8f16-e7184a1c5594",
   "metadata": {},
   "source": [
    "# Monotonicity test for puts"
   ]
  },
  {
   "cell_type": "code",
   "execution_count": 89,
   "id": "d2ae1987-6db6-4a5f-a754-bc9c69321029",
   "metadata": {},
   "outputs": [
    {
     "name": "stdout",
     "output_type": "stream",
     "text": [
      ">>> Monotonicity violations: 38\n"
     ]
    }
   ],
   "source": [
    "df = df.sort_values('Strike').reset_index(drop=True)\n",
    "df['put_diff'] = df['mid_price_put'].diff().fillna(0)\n",
    "mono_viol_idx = df.index[df['put_diff'] < 0]\n",
    "print(f\">>> Monotonicity violations: {len(mono_viol_idx)}\")\n",
    "df.drop(index=mono_viol_idx, inplace=True)"
   ]
  },
  {
   "cell_type": "markdown",
   "id": "cc0eb43b-dc6f-4609-b2c1-75a0b4650197",
   "metadata": {},
   "source": [
    "# convexity test for puts"
   ]
  },
  {
   "cell_type": "code",
   "execution_count": 91,
   "id": "da17ae53-d0ba-4748-9290-7e1d5fde2433",
   "metadata": {},
   "outputs": [
    {
     "name": "stdout",
     "output_type": "stream",
     "text": [
      ">>> Convexity violations: 23\n"
     ]
    },
    {
     "name": "stderr",
     "output_type": "stream",
     "text": [
      "C:\\Users\\OY\\AppData\\Local\\Temp\\ipykernel_16996\\4096135617.py:6: RuntimeWarning: invalid value encountered in scalar divide\n",
      "  w0 = (K2 - K1)/(K2 - K0)\n",
      "C:\\Users\\OY\\AppData\\Local\\Temp\\ipykernel_16996\\4096135617.py:7: RuntimeWarning: invalid value encountered in scalar divide\n",
      "  w2 = (K1 - K0)/(K2 - K0)\n"
     ]
    }
   ],
   "source": [
    "df = df.sort_values('Strike').reset_index(drop=True)\n",
    "conv_viol_idx = []\n",
    "for i in range(1, len(df)-1):\n",
    "    K0, K1, K2 = df.loc[i-1,'Strike'], df.loc[i,'Strike'], df.loc[i+1,'Strike']\n",
    "    P0, P1, P2 = df.loc[i-1,'mid_price_put'], df.loc[i,'mid_price_put'], df.loc[i+1,'mid_price_put']\n",
    "    w0 = (K2 - K1)/(K2 - K0)\n",
    "    w2 = (K1 - K0)/(K2 - K0)\n",
    "    if P1 > (w0*P0 + w2*P2) + tol:\n",
    "        conv_viol_idx.append(i)\n",
    "print(f\">>> Convexity violations: {len(conv_viol_idx)}\")\n",
    "df.drop(index=conv_viol_idx, inplace=True)"
   ]
  },
  {
   "cell_type": "code",
   "execution_count": 92,
   "id": "b0e578b6-86b5-40f5-b7dc-f7725fd0b20a",
   "metadata": {},
   "outputs": [],
   "source": [
    "df = df.drop(columns=['K_rel','put_diff']).reset_index(drop=True)\n",
    "df.to_csv('jan_02_clean.csv', index=False)"
   ]
  },
  {
   "cell_type": "markdown",
   "id": "c05401bb-125a-4e3a-9814-ea06194f62d5",
   "metadata": {},
   "source": [
    "# Data for time series robustness checking"
   ]
  },
  {
   "cell_type": "code",
   "execution_count": 94,
   "id": "761eb4ed-7c08-42ed-88fa-778cc01df43f",
   "metadata": {},
   "outputs": [
    {
     "name": "stdout",
     "output_type": "stream",
     "text": [
      "<class 'pandas.core.frame.DataFrame'>\n",
      "RangeIndex: 31 entries, 0 to 30\n",
      "Data columns (total 10 columns):\n",
      " #   Column         Non-Null Count  Dtype  \n",
      "---  ------         --------------  -----  \n",
      " 0   Strike         31 non-null     float64\n",
      " 1   Ticker         31 non-null     object \n",
      " 2   TTM_year       31 non-null     float64\n",
      " 3   TTM_day        31 non-null     int64  \n",
      " 4   Bid_Put        31 non-null     float64\n",
      " 5   Ask_Put        31 non-null     float64\n",
      " 6   IVM_Put        31 non-null     float64\n",
      " 7   Volm_Put       31 non-null     int64  \n",
      " 8   mid_price_Put  31 non-null     float64\n",
      " 9   spot_price     31 non-null     float64\n",
      "dtypes: float64(7), int64(2), object(1)\n",
      "memory usage: 2.6+ KB\n"
     ]
    }
   ],
   "source": [
    "df_full = (\n",
    "    pd.read_csv('48_k=0.2_modified.csv')\n",
    "      \n",
    ")\n",
    "\n",
    "\n",
    "df_full.info()"
   ]
  },
  {
   "cell_type": "code",
   "execution_count": 96,
   "id": "ccee75af-f4e4-43ed-80da-6a271e0c52c5",
   "metadata": {},
   "outputs": [
    {
     "name": "stdout",
     "output_type": "stream",
     "text": [
      "\n",
      "Ranges:\n",
      "     TTM_year  Strike  spot_price  mid_price_Put\n",
      "min  0.002740     0.2      0.1477        0.03005\n",
      "max  0.131507     0.2      0.1954        0.04475\n"
     ]
    }
   ],
   "source": [
    "ranges = df_full.agg({\n",
    "    'TTM_year': ['min','max'],\n",
    "    'Strike'  : ['min','max'],\n",
    "    'spot_price' :['min','max'],\n",
    "    'mid_price_Put' :['min','max']\n",
    "})\n",
    "print(\"\\nRanges:\")\n",
    "print(ranges)"
   ]
  }
 ],
 "metadata": {
  "kernelspec": {
   "display_name": "Python 3 (ipykernel)",
   "language": "python",
   "name": "python3"
  },
  "language_info": {
   "codemirror_mode": {
    "name": "ipython",
    "version": 3
   },
   "file_extension": ".py",
   "mimetype": "text/x-python",
   "name": "python",
   "nbconvert_exporter": "python",
   "pygments_lexer": "ipython3",
   "version": "3.12.3"
  }
 },
 "nbformat": 4,
 "nbformat_minor": 5
}
